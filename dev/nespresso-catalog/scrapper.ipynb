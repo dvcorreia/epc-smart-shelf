{
 "nbformat": 4,
 "nbformat_minor": 2,
 "metadata": {
  "language_info": {
   "name": "python",
   "codemirror_mode": {
    "name": "ipython",
    "version": 3
   },
   "version": "3.7.2-final"
  },
  "orig_nbformat": 2,
  "file_extension": ".py",
  "mimetype": "text/x-python",
  "name": "python",
  "npconvert_exporter": "python",
  "pygments_lexer": "ipython3",
  "version": 3,
  "kernelspec": {
   "name": "python37264bit736d51d34d764f60945732a72ae0b788",
   "display_name": "Python 3.7.2 64-bit"
  }
 },
 "cells": [
  {
   "cell_type": "code",
   "execution_count": 83,
   "metadata": {},
   "outputs": [],
   "source": [
    "# import selenium for browser emulation\n",
    "from selenium import webdriver\n",
    "import urllib.request"
   ]
  },
  {
   "cell_type": "code",
   "execution_count": 63,
   "metadata": {},
   "outputs": [],
   "source": [
    "# get catalog webpage\n",
    "# make shure you have chromedriver downloaded in the root of the project\n",
    "url = 'https://www.nespresso.com/pt/pt/order/capsules'\n",
    "driver = webdriver.Chrome('./chromedriver')\n",
    "driver.get(url)"
   ]
  },
  {
   "cell_type": "code",
   "execution_count": 64,
   "metadata": {},
   "outputs": [],
   "source": [
    "# create array with capsule html elements\n",
    "capsules = driver.find_elements_by_class_name('ProductListElement')"
   ]
  },
  {
   "cell_type": "code",
   "execution_count": 84,
   "metadata": {},
   "outputs": [
    {
     "ename": "SyntaxError",
     "evalue": "EOL while scanning string literal (<ipython-input-84-d5e1da6cc89f>, line 7)",
     "output_type": "error",
     "traceback": [
      "\u001b[0;36m  File \u001b[0;32m\"<ipython-input-84-d5e1da6cc89f>\"\u001b[0;36m, line \u001b[0;32m7\u001b[0m\n\u001b[0;31m    urllib.request.urlretrieve(\"image_url, f'./data/{name}.jpg')\u001b[0m\n\u001b[0m                                                                ^\u001b[0m\n\u001b[0;31mSyntaxError\u001b[0m\u001b[0;31m:\u001b[0m EOL while scanning string literal\n"
     ]
    }
   ],
   "source": [
    "# get images, names and prices\n",
    "# scroll throught the page because nespresso lazy loads the capsules images\n",
    "for c in capsules:\n",
    "    image_url = 'https://www.nespresso.com' + c.find_element_by_class_name('ProductListElement__image-element').get_attribute(\"srcset\").split(',')[1][1:-3]\n",
    "    name = c.find_element_by_class_name('ProductListElement__name').text\n",
    "\n",
    "    urllib.request.urlretrieve(\"image_url, f'./data/{name}.jpg')\n",
    "\n",
    "    print(image_url)\n",
    "    #print({\n",
    "    #    \"name\": c.find_element_by_class_name('ProductListElement__name').text,\n",
    "    #    \"price\": c.find_element_by_class_name('ProductListElement__price').text\n",
    "    #})"
   ]
  },
  {
   "cell_type": "code",
   "execution_count": null,
   "metadata": {},
   "outputs": [],
   "source": []
  },
  {
   "cell_type": "code",
   "execution_count": 62,
   "metadata": {},
   "outputs": [],
   "source": [
    "driver.close()"
   ]
  }
 ]
}