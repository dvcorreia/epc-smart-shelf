{
 "cells": [
  {
   "cell_type": "code",
   "execution_count": 7,
   "metadata": {},
   "outputs": [],
   "source": [
    "import numpy as np\n",
    "import matplotlib\n",
    "import matplotlib.pyplot as plt"
   ]
  },
  {
   "cell_type": "code",
   "execution_count": 46,
   "metadata": {},
   "outputs": [
    {
     "name": "stdout",
     "output_type": "stream",
     "text": [
      "[[-69.501  -70.929  -64.844  -47.324  -67.7415 -70.254 ]\n",
      " [-72.2705 -64.022  -50.4285 -55.2625 -68.6925 -71.2565]\n",
      " [-74.268  -69.253  -56.116  -45.973  -66.6815 -69.3455]]\n"
     ]
    }
   ],
   "source": [
    "# Process RSSI data in .csv file\n",
    "# Returns object with statistical data\n",
    "\n",
    "data_directory = \"data/horizontal/1\"\n",
    "xn = 6 # Number of x axis limit\n",
    "yn = 3 # Number of y axis limit\n",
    "\n",
    "data = np.zeros((yn,xn))\n",
    "\n",
    "for x in range(xn):\n",
    "    for y in range(yn):\n",
    "        try:\n",
    "            f = open(data_directory + '/' + str(x) + str(y) + '.csv', 'r')\n",
    "        except:\n",
    "            print(\"Could not read file \" + str(x) + str(y))\n",
    "            \n",
    "        content = f.read().split('\\n')\n",
    "        rssis = np.array(content[0:-1]).astype(float)\n",
    "        data[y,x] = rssis.mean()\n",
    "        \n",
    "print(data)"
   ]
  },
  {
   "cell_type": "code",
   "execution_count": 63,
   "metadata": {},
   "outputs": [
    {
     "data": {
      "image/png": "[encoded data removed]",
      "text/plain": [
       "<Figure size 432x288 with 4 Axes>"
      ]
     },
     "metadata": {
      "needs_background": "light"
     },
     "output_type": "display_data"
    }
   ],
   "source": [
    "def plot_heat(ax):\n",
    "    ax.imshow(data, origin=\"lower\", vmin=-80, vmax=0)\n",
    "    ax.set_xticks(np.arange(xn))\n",
    "    ax.set_yticks(np.arange(yn))\n",
    "    ax.axis('off')\n",
    "\n",
    "# Plot heatmap\n",
    "fig, ax = plt.subplots(4, 1, sharex='col')\n",
    "\n",
    "for axu in ax:\n",
    "    plot_heat(axu)\n",
    "\n",
    "plt.show()"
   ]
  },
  {
   "cell_type": "code",
   "execution_count": null,
   "metadata": {},
   "outputs": [],
   "source": []
  },
  {
   "cell_type": "code",
   "execution_count": null,
   "metadata": {},
   "outputs": [],
   "source": []
  }
 ],
 "metadata": {
  "kernelspec": {
   "display_name": "Python 3",
   "language": "python",
   "name": "python3"
  },
  "language_info": {
   "codemirror_mode": {
    "name": "ipython",
    "version": 3
   },
   "file_extension": ".py",
   "mimetype": "text/x-python",
   "name": "python",
   "nbconvert_exporter": "python",
   "pygments_lexer": "ipython3",
   "version": "3.8.3"
  }
 },
 "nbformat": 4,
 "nbformat_minor": 4
}
